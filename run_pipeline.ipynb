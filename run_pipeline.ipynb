{
 "cells": [
  {
   "cell_type": "code",
   "execution_count": 1,
   "id": "252a75a6-b088-4599-8e18-dda881638f7e",
   "metadata": {
    "tags": []
   },
   "outputs": [
    {
     "name": "stdout",
     "output_type": "stream",
     "text": [
      "sagemaker.config INFO - Not applying SDK defaults from location: /etc/xdg/sagemaker/config.yaml\n",
      "sagemaker.config INFO - Not applying SDK defaults from location: /root/.config/sagemaker/config.yaml\n"
     ]
    }
   ],
   "source": [
    "import argparse\n",
    "import boto3\n",
    "import json\n",
    "import os\n",
    "import urllib.request\n",
    "import zipfile\n",
    "\n",
    "import sagemaker\n",
    "import sagemaker.image_uris\n",
    "import sagemaker.s3\n",
    "from sagemaker.estimator import Estimator\n",
    "from sagemaker.inputs import TrainingInput, TransformInput\n",
    "from sagemaker.model import Model\n",
    "from sagemaker.processing import ProcessingOutput, ProcessingInput\n",
    "from sagemaker.sklearn.processing import SKLearnProcessor, ScriptProcessor\n",
    "from sagemaker.transformer import Transformer\n",
    "from sagemaker.workflow.model_step import ModelStep\n",
    "from sagemaker.workflow.pipeline import Pipeline\n",
    "from sagemaker.workflow.pipeline_context import PipelineSession\n",
    "from sagemaker.workflow.properties import PropertyFile\n",
    "from sagemaker.workflow.steps import ProcessingStep, TrainingStep, TransformStep\n",
    "\n",
    "model_package_group_name = f\"AbaloneModelPackageGroupName\""
   ]
  },
  {
   "cell_type": "code",
   "execution_count": 2,
   "id": "9949ac30-b46c-4f15-9e36-ba6e806295ed",
   "metadata": {
    "tags": []
   },
   "outputs": [],
   "source": [
    "def prepare_data(bucket_name: str):\n",
    "    print()\n",
    "    s3_prefix = \"sagemaker-abalone\"\n",
    "    s3_uri = f\"s3://{bucket_name}/{s3_prefix}\"\n",
    "\n",
    "    input_data_dir = \"./\"\n",
    "    os.makedirs(os.path.dirname(input_data_dir), exist_ok=True)\n",
    "    path_to_zip_file = os.path.join(input_data_dir, \"abalone.zip\")\n",
    "    dataset_url = \"https://archive.ics.uci.edu/static/public/1/abalone.zip\"\n",
    "    urllib.request.urlretrieve(dataset_url, path_to_zip_file)\n",
    "    with zipfile.ZipFile(path_to_zip_file, 'r') as zip_ref:\n",
    "        zip_ref.extractall(input_data_dir)\n",
    "    # rename - using diff name in preprocessing\n",
    "    os.rename(os.path.join(input_data_dir, \"abalone.data\"),\n",
    "              os.path.join(input_data_dir, \"abalone-dataset.csv\"))\n",
    "    input_data_path = os.path.join(input_data_dir, 'abalone-dataset.csv')\n",
    "    upload_s3_uri = sagemaker.s3.S3Uploader.upload(input_data_path, s3_uri)\n",
    "    print(\"Downloading dataset and uploading to Amazon S3...\")\n",
    "    print(\"---upload_s3_uri---\", upload_s3_uri)\n",
    "\n",
    "    # batch transformation\n",
    "    local_path_batch = os.path.join(input_data_dir, \"abalone-dataset-batch\")\n",
    "    # os.makedirs(os.path.dirname(local_path_batch), exist_ok=True)\n",
    "    s3 = boto3.resource(\"s3\")\n",
    "    s3.Bucket(f\"sagemaker-servicecatalog-seedcode-us-east-1\").download_file(\n",
    "        \"dataset/abalone-dataset-batch\", local_path_batch\n",
    "    )\n",
    "\n",
    "    base_uri = f\"s3://{bucket_name}/abalone-batch\"\n",
    "    batch_data_uri = sagemaker.s3.S3Uploader.upload(\n",
    "        local_path=local_path_batch,\n",
    "        desired_s3_uri=base_uri,\n",
    "    )\n",
    "    print(\"---upload_s3_uri Batch---\", batch_data_uri)\n",
    "    return upload_s3_uri, batch_data_uri"
   ]
  },
  {
   "cell_type": "code",
   "execution_count": 3,
   "id": "232c83c7-c731-4519-bdf8-87e427ecf60b",
   "metadata": {
    "tags": []
   },
   "outputs": [],
   "source": [
    "def create_preprocessing_step(pipeline_sess: PipelineSession, role_arn: str, input_data: str):\n",
    "    framework_version = \"0.23-1\"\n",
    "    processing_instance_count = 1\n",
    "    sklearn_processor = SKLearnProcessor(\n",
    "        framework_version=framework_version,\n",
    "        instance_type=\"ml.m5.xlarge\",\n",
    "        instance_count=processing_instance_count,\n",
    "        base_job_name=\"sklearn-abalone-preprocess\",\n",
    "        sagemaker_session=pipeline_sess,\n",
    "        role=role_arn,\n",
    "    )\n",
    "    processor_args = sklearn_processor.run(\n",
    "        inputs=[\n",
    "            ProcessingInput(source=input_data, destination=\"/opt/ml/processing/input\"),\n",
    "        ],\n",
    "        outputs=[\n",
    "            ProcessingOutput(output_name=\"train\", source=\"/opt/ml/processing/train\"),\n",
    "            ProcessingOutput(output_name=\"validation\", source=\"/opt/ml/processing/validation\"),\n",
    "            ProcessingOutput(output_name=\"test\", source=\"/opt/ml/processing/test\")\n",
    "        ],\n",
    "        code=\"preprocessing.py\",\n",
    "    )\n",
    "    step_process = ProcessingStep(\n",
    "        name=\"AbalonePreprocess\",\n",
    "        step_args=processor_args\n",
    "    )\n",
    "    return step_process"
   ]
  },
  {
   "cell_type": "code",
   "execution_count": 4,
   "id": "7ddff368-d9b6-4e39-a9f7-6bb411437356",
   "metadata": {
    "tags": []
   },
   "outputs": [],
   "source": [
    "def get_estimator(pipeline_sess: PipelineSession, region: str, role_arn: str, model_path: str):\n",
    "    image_uri = sagemaker.image_uris.retrieve(\n",
    "        framework=\"xgboost\",\n",
    "        region=region,\n",
    "        version=\"1.0-1\",\n",
    "        py_version=\"py3\",\n",
    "        instance_type=\"ml.m5.xlarge\"\n",
    "    )\n",
    "    xgb_train = Estimator(\n",
    "        image_uri=image_uri,\n",
    "        instance_type=\"ml.m5.xlarge\",\n",
    "        instance_count=1,\n",
    "        output_path=model_path,\n",
    "        sagemaker_session=pipeline_sess,\n",
    "        role=role_arn,\n",
    "    )\n",
    "    xgb_train.set_hyperparameters(\n",
    "        objective=\"reg:linear\",\n",
    "        num_round=50,\n",
    "        max_depth=5,\n",
    "        eta=0.2,\n",
    "        gamma=4,\n",
    "        min_child_weight=6,\n",
    "        subsample=0.7,\n",
    "        silent=0\n",
    "    )\n",
    "    return xgb_train"
   ]
  },
  {
   "cell_type": "code",
   "execution_count": 5,
   "id": "3f33eb54-4abd-439b-a484-a463a64f4fb7",
   "metadata": {
    "tags": []
   },
   "outputs": [],
   "source": [
    "def create_training_step(estimator: Estimator, train_data_uri: str, valid_data_uri: str):\n",
    "    train_args = estimator.fit(\n",
    "        inputs={\n",
    "            \"train\": TrainingInput(\n",
    "                s3_data=train_data_uri,  # step_process.properties.ProcessingOutputConfig.Outputs[\n",
    "                #     \"train\"\n",
    "                # ].S3Output.S3Uri,\n",
    "                content_type=\"text/csv\"\n",
    "            ),\n",
    "            \"validation\": TrainingInput(\n",
    "                s3_data=valid_data_uri,  # step_process.properties.ProcessingOutputConfig.Outputs[\n",
    "                #     \"validation\"\n",
    "                # ].S3Output.S3Uri,\n",
    "                content_type=\"text/csv\"\n",
    "            )\n",
    "        },\n",
    "    )\n",
    "    step_train = TrainingStep(\n",
    "        name=\"AbaloneTrain\",\n",
    "        step_args=train_args\n",
    "    )\n",
    "    return step_train"
   ]
  },
  {
   "cell_type": "code",
   "execution_count": 6,
   "id": "69b3b0ee-fda3-4b99-b432-7c0ae2c50f92",
   "metadata": {
    "tags": []
   },
   "outputs": [],
   "source": [
    "def create_evaluation_step(pipeline_sess: PipelineSession, region: str, role_arn: str, model_uri: str,\n",
    "                           test_data_uri: str):\n",
    "    image_uri = sagemaker.image_uris.retrieve(\n",
    "        framework=\"xgboost\",\n",
    "        region=region,\n",
    "        version=\"1.0-1\",\n",
    "        py_version=\"py3\",\n",
    "        instance_type=\"ml.m5.xlarge\"\n",
    "    )\n",
    "    script_eval = ScriptProcessor(\n",
    "        image_uri=image_uri,\n",
    "        command=[\"python3\"],\n",
    "        instance_type=\"ml.m5.xlarge\",\n",
    "        instance_count=1,\n",
    "        base_job_name=\"script-abalone-evaluation\",\n",
    "        sagemaker_session=pipeline_sess,\n",
    "        role=role_arn,\n",
    "    )\n",
    "    eval_args = script_eval.run(\n",
    "        inputs=[\n",
    "            ProcessingInput(\n",
    "                source=model_uri,\n",
    "                destination=\"/opt/ml/processing/model\"\n",
    "            ),\n",
    "            ProcessingInput(\n",
    "                source=test_data_uri,\n",
    "                destination=\"/opt/ml/processing/test\"\n",
    "            )\n",
    "        ],\n",
    "        outputs=[\n",
    "            ProcessingOutput(output_name=\"evaluation\", source=\"/opt/ml/processing/evaluation\"),\n",
    "        ],\n",
    "        code=\"evaluation.py\",\n",
    "    )\n",
    "    evaluation_report = PropertyFile(\n",
    "        name=\"EvaluationReport\", output_name=\"evaluation\", path=\"evaluation.json\"\n",
    "    )\n",
    "    step_eval = ProcessingStep(\n",
    "        name=\"AbaloneEval\",\n",
    "        step_args=eval_args,\n",
    "        property_files=[evaluation_report],\n",
    "    )\n",
    "    return step_eval"
   ]
  },
  {
   "cell_type": "code",
   "execution_count": 7,
   "id": "c7fd0524-6e98-4de7-a336-0315bdec7c11",
   "metadata": {
    "tags": []
   },
   "outputs": [],
   "source": [
    "def create_model_step(pipeline_sess: PipelineSession, region: str, role_arn: str, model_uri: str):\n",
    "    image_uri = sagemaker.image_uris.retrieve(\n",
    "        framework=\"xgboost\",\n",
    "        region=region,\n",
    "        version=\"1.0-1\",\n",
    "        py_version=\"py3\",\n",
    "        instance_type=\"ml.m5.xlarge\"\n",
    "    )\n",
    "    model = Model(\n",
    "        image_uri=image_uri,\n",
    "        model_data=model_uri,\n",
    "        sagemaker_session=pipeline_sess,\n",
    "        role=role_arn,\n",
    "    )\n",
    "    step_creating_model = ModelStep(\n",
    "        name=\"AbaloneCreateModel\",\n",
    "        step_args=model.create(instance_type=\"ml.m5.large\", accelerator_type=\"ml.eia1.medium\"),\n",
    "    )\n",
    "    return step_creating_model, model"
   ]
  },
  {
   "cell_type": "code",
   "execution_count": 9,
   "id": "a3ddffc6-a1df-4ca5-9474-40b9ed193c4b",
   "metadata": {
    "tags": []
   },
   "outputs": [],
   "source": [
    "def create_transform_step(pipeline_sess: PipelineSession, model_name: str, output_path: str, batch_data_uri: str):\n",
    "    transformer = Transformer(\n",
    "        model_name=model_name,\n",
    "        instance_type=\"ml.m5.xlarge\",\n",
    "        instance_count=1,\n",
    "        output_path=output_path,\n",
    "    )\n",
    "    step_transform = TransformStep(\n",
    "        name=\"AbaloneTransform\", transformer=transformer, inputs=TransformInput(data=batch_data_uri)\n",
    "    )\n",
    "    return step_transform"
   ]
  },
  {
   "cell_type": "code",
   "execution_count": 10,
   "id": "f5714b7e-34ab-474a-91bd-34d024d63c74",
   "metadata": {
    "tags": []
   },
   "outputs": [],
   "source": [
    "def register_model_step(model: Model):\n",
    "    register_args = model.register(\n",
    "        content_types=[\"text/csv\"],\n",
    "        response_types=[\"text/csv\"],\n",
    "        inference_instances=[\"ml.t2.medium\", \"ml.m5.xlarge\"],\n",
    "        transform_instances=[\"ml.m5.xlarge\"],\n",
    "        model_package_group_name=model_package_group_name,\n",
    "    )\n",
    "    step_register = ModelStep(name=\"AbaloneRegisterModel\", step_args=register_args)\n",
    "    return step_register"
   ]
  },
  {
   "cell_type": "code",
   "execution_count": 11,
   "id": "d33d876b-e654-4c4c-8f10-4380766b46ea",
   "metadata": {
    "tags": []
   },
   "outputs": [],
   "source": [
    "def execute():\n",
    "    pipeline_name = \"AbalonePipeline\"\n",
    "    os.environ[\"AWS_DEFAULT_REGION\"] = \"us-east-1\"\n",
    "    \n",
    "    boto_session = boto3.session.Session(region_name=os.environ[\"AWS_DEFAULT_REGION\"])\n",
    "    sagemaker_session = sagemaker.session.Session(boto_session=boto_session)\n",
    "    default_bucket = sagemaker_session.default_bucket()\n",
    "    print(\"---default_bucket---\", default_bucket)\n",
    "\n",
    "    # region = sagemaker_session.boto_region_name\n",
    "    role = \"arn:aws:iam::703051050276:role/service-role/AmazonSageMaker-ExecutionRole-20231129T151175\"\n",
    "    pipeline_session = PipelineSession(boto_session=boto_session,\n",
    "                                       sagemaker_client=boto_session.client(\"sagemaker\"),\n",
    "                                       default_bucket=sagemaker_session.default_bucket())\n",
    "    print(\"---pipeline_session values---\", pipeline_session.sagemaker_config.values())\n",
    "\n",
    "    s3_data_loc, batch_data_uri = prepare_data(default_bucket)\n",
    "    print(\"---s3_data_loc---\", s3_data_loc, \"\\n---s3_data_loc Batch---\", batch_data_uri)\n",
    "\n",
    "    step_preprocess = create_preprocessing_step(\n",
    "        pipeline_sess=pipeline_session, role_arn=role, input_data=s3_data_loc)\n",
    "\n",
    "    train_data_loc = step_preprocess.properties.ProcessingOutputConfig.Outputs[\"train\"].S3Output.S3Uri\n",
    "    valid_data_loc = step_preprocess.properties.ProcessingOutputConfig.Outputs[\"validation\"].S3Output.S3Uri\n",
    "    test_data_loc = step_preprocess.properties.ProcessingOutputConfig.Outputs[\"test\"].S3Output.S3Uri\n",
    "\n",
    "    xgb_estimator: Estimator = get_estimator(pipeline_sess=pipeline_session, region=os.environ[\"AWS_DEFAULT_REGION\"],\n",
    "                                             role_arn=role, model_path=f\"s3://{default_bucket}/AbaloneTrain\")\n",
    "    \n",
    "    step_training = create_training_step(estimator=xgb_estimator, train_data_uri=train_data_loc,\n",
    "                                         valid_data_uri=valid_data_loc)\n",
    "    step_training.add_depends_on([step_preprocess])\n",
    "\n",
    "    model_loc = step_training.properties.ModelArtifacts.S3ModelArtifacts\n",
    "    step_evaluation = create_evaluation_step(pipeline_sess=pipeline_session, region=os.environ[\"AWS_DEFAULT_REGION\"],\n",
    "                                             role_arn=role, model_uri=model_loc, test_data_uri=test_data_loc)\n",
    "    step_evaluation.add_depends_on([step_training])\n",
    "\n",
    "    step_model, model = create_model_step(pipeline_sess=pipeline_session, region=os.environ[\"AWS_DEFAULT_REGION\"],\n",
    "                                          role_arn=role, model_uri=model_loc, )\n",
    "\n",
    "    step_register_model = register_model_step(model)\n",
    "\n",
    "    step_transform = create_transform_step(pipeline_sess=pipeline_session, model_name=step_model.properties.ModelName,\n",
    "                                           output_path=f\"s3://{default_bucket}/AbaloneTransform\",\n",
    "                                           batch_data_uri=batch_data_uri)\n",
    "\n",
    "    pipeline = Pipeline(\n",
    "        name=pipeline_name,\n",
    "        steps=[step_preprocess, step_training, step_evaluation,\n",
    "               step_register_model, step_model, step_transform\n",
    "              ]\n",
    "    )\n",
    "\n",
    "    definition = json.loads(pipeline.definition())\n",
    "    print(definition)\n",
    "    pipeline.upsert(role_arn=role)\n",
    "    execution = pipeline.start()\n",
    "    execution.wait(delay=30, max_attempts=120)\n",
    "    print(\"execution completed. steps:\\n\", execution.list_steps())"
   ]
  },
  {
   "cell_type": "code",
   "execution_count": 12,
   "id": "9b254d2a-d613-4fd4-a5ca-b944e2442f51",
   "metadata": {
    "tags": []
   },
   "outputs": [
    {
     "name": "stdout",
     "output_type": "stream",
     "text": [
      "---default_bucket--- sagemaker-us-east-1-703051050276\n",
      "---pipeline_session values--- dict_values([])\n",
      "\n",
      "Downloading dataset and uploading to Amazon S3...\n",
      "---upload_s3_uri--- s3://sagemaker-us-east-1-703051050276/sagemaker-abalone/abalone-dataset.csv\n"
     ]
    },
    {
     "name": "stderr",
     "output_type": "stream",
     "text": [
      "INFO:sagemaker.image_uris:Defaulting to only available Python version: py3\n"
     ]
    },
    {
     "name": "stdout",
     "output_type": "stream",
     "text": [
      "---upload_s3_uri Batch--- s3://sagemaker-us-east-1-703051050276/abalone-batch/abalone-dataset-batch\n",
      "---s3_data_loc--- s3://sagemaker-us-east-1-703051050276/sagemaker-abalone/abalone-dataset.csv \n",
      "---s3_data_loc Batch--- s3://sagemaker-us-east-1-703051050276/abalone-batch/abalone-dataset-batch\n"
     ]
    },
    {
     "name": "stderr",
     "output_type": "stream",
     "text": [
      "/opt/conda/lib/python3.10/site-packages/sagemaker/workflow/pipeline_context.py:332: UserWarning: Running within a PipelineSession, there will be No Wait, No Logs, and No Job being started.\n",
      "  warnings.warn(\n",
      "WARNING:sagemaker.workflow.utilities:Popping out 'ProcessingJobName' from the pipeline definition by default since it will be overridden at pipeline execution time. Please utilize the PipelineDefinitionConfig to persist this field in the pipeline definition if desired.\n",
      "WARNING:sagemaker.workflow.utilities:Popping out 'TrainingJobName' from the pipeline definition by default since it will be overridden at pipeline execution time. Please utilize the PipelineDefinitionConfig to persist this field in the pipeline definition if desired.\n",
      "WARNING:sagemaker.workflow.utilities:Popping out 'ProcessingJobName' from the pipeline definition by default since it will be overridden at pipeline execution time. Please utilize the PipelineDefinitionConfig to persist this field in the pipeline definition if desired.\n",
      "WARNING:sagemaker.workflow._utils:Popping out 'CertifyForMarketplace' from the pipeline definition since it will be overridden in pipeline execution time.\n",
      "WARNING:sagemaker.workflow.utilities:Popping out 'ModelPackageName' from the pipeline definition by default since it will be overridden at pipeline execution time. Please utilize the PipelineDefinitionConfig to persist this field in the pipeline definition if desired.\n",
      "WARNING:sagemaker.workflow.utilities:Popping out 'ModelName' from the pipeline definition by default since it will be overridden at pipeline execution time. Please utilize the PipelineDefinitionConfig to persist this field in the pipeline definition if desired.\n",
      "WARNING:sagemaker.workflow.utilities:Popping out 'TransformJobName' from the pipeline definition by default since it will be overridden at pipeline execution time. Please utilize the PipelineDefinitionConfig to persist this field in the pipeline definition if desired.\n",
      "WARNING:sagemaker.workflow.utilities:Popping out 'ProcessingJobName' from the pipeline definition by default since it will be overridden at pipeline execution time. Please utilize the PipelineDefinitionConfig to persist this field in the pipeline definition if desired.\n",
      "WARNING:sagemaker.workflow.utilities:Popping out 'TrainingJobName' from the pipeline definition by default since it will be overridden at pipeline execution time. Please utilize the PipelineDefinitionConfig to persist this field in the pipeline definition if desired.\n",
      "WARNING:sagemaker.workflow.utilities:Popping out 'ProcessingJobName' from the pipeline definition by default since it will be overridden at pipeline execution time. Please utilize the PipelineDefinitionConfig to persist this field in the pipeline definition if desired.\n",
      "WARNING:sagemaker.workflow.utilities:Popping out 'ModelPackageName' from the pipeline definition by default since it will be overridden at pipeline execution time. Please utilize the PipelineDefinitionConfig to persist this field in the pipeline definition if desired.\n",
      "WARNING:sagemaker.workflow.utilities:Popping out 'ModelName' from the pipeline definition by default since it will be overridden at pipeline execution time. Please utilize the PipelineDefinitionConfig to persist this field in the pipeline definition if desired.\n",
      "WARNING:sagemaker.workflow.utilities:Popping out 'TransformJobName' from the pipeline definition by default since it will be overridden at pipeline execution time. Please utilize the PipelineDefinitionConfig to persist this field in the pipeline definition if desired.\n"
     ]
    },
    {
     "name": "stdout",
     "output_type": "stream",
     "text": [
      "{'Version': '2020-12-01', 'Metadata': {}, 'Parameters': [], 'PipelineExperimentConfig': {'ExperimentName': {'Get': 'Execution.PipelineName'}, 'TrialName': {'Get': 'Execution.PipelineExecutionId'}}, 'Steps': [{'Name': 'AbalonePreprocess', 'Type': 'Processing', 'Arguments': {'ProcessingResources': {'ClusterConfig': {'InstanceType': 'ml.m5.xlarge', 'InstanceCount': 1, 'VolumeSizeInGB': 30}}, 'AppSpecification': {'ImageUri': '683313688378.dkr.ecr.us-east-1.amazonaws.com/sagemaker-scikit-learn:0.23-1-cpu-py3', 'ContainerEntrypoint': ['python3', '/opt/ml/processing/input/code/preprocessing.py']}, 'RoleArn': 'arn:aws:iam::703051050276:role/service-role/AmazonSageMaker-ExecutionRole-20231129T151175', 'ProcessingInputs': [{'InputName': 'input-1', 'AppManaged': False, 'S3Input': {'S3Uri': 's3://sagemaker-us-east-1-703051050276/sagemaker-abalone/abalone-dataset.csv', 'LocalPath': '/opt/ml/processing/input', 'S3DataType': 'S3Prefix', 'S3InputMode': 'File', 'S3DataDistributionType': 'FullyReplicated', 'S3CompressionType': 'None'}}, {'InputName': 'code', 'AppManaged': False, 'S3Input': {'S3Uri': 's3://sagemaker-us-east-1-703051050276/AbalonePipeline/code/2ae48f9fa6f65fb9e3977ba2d722101a/preprocessing.py', 'LocalPath': '/opt/ml/processing/input/code', 'S3DataType': 'S3Prefix', 'S3InputMode': 'File', 'S3DataDistributionType': 'FullyReplicated', 'S3CompressionType': 'None'}}], 'ProcessingOutputConfig': {'Outputs': [{'OutputName': 'train', 'AppManaged': False, 'S3Output': {'S3Uri': {'Std:Join': {'On': '/', 'Values': ['s3:/', 'sagemaker-us-east-1-703051050276', 'AbalonePipeline', {'Get': 'Execution.PipelineExecutionId'}, 'AbalonePreprocess', 'output', 'train']}}, 'LocalPath': '/opt/ml/processing/train', 'S3UploadMode': 'EndOfJob'}}, {'OutputName': 'validation', 'AppManaged': False, 'S3Output': {'S3Uri': {'Std:Join': {'On': '/', 'Values': ['s3:/', 'sagemaker-us-east-1-703051050276', 'AbalonePipeline', {'Get': 'Execution.PipelineExecutionId'}, 'AbalonePreprocess', 'output', 'validation']}}, 'LocalPath': '/opt/ml/processing/validation', 'S3UploadMode': 'EndOfJob'}}, {'OutputName': 'test', 'AppManaged': False, 'S3Output': {'S3Uri': {'Std:Join': {'On': '/', 'Values': ['s3:/', 'sagemaker-us-east-1-703051050276', 'AbalonePipeline', {'Get': 'Execution.PipelineExecutionId'}, 'AbalonePreprocess', 'output', 'test']}}, 'LocalPath': '/opt/ml/processing/test', 'S3UploadMode': 'EndOfJob'}}]}}}, {'Name': 'AbaloneTrain', 'Type': 'Training', 'Arguments': {'AlgorithmSpecification': {'TrainingInputMode': 'File', 'TrainingImage': '683313688378.dkr.ecr.us-east-1.amazonaws.com/sagemaker-xgboost:1.0-1-cpu-py3'}, 'OutputDataConfig': {'S3OutputPath': 's3://sagemaker-us-east-1-703051050276/AbaloneTrain'}, 'StoppingCondition': {'MaxRuntimeInSeconds': 86400}, 'ResourceConfig': {'VolumeSizeInGB': 30, 'InstanceCount': 1, 'InstanceType': 'ml.m5.xlarge'}, 'RoleArn': 'arn:aws:iam::703051050276:role/service-role/AmazonSageMaker-ExecutionRole-20231129T151175', 'InputDataConfig': [{'DataSource': {'S3DataSource': {'S3DataType': 'S3Prefix', 'S3Uri': {'Get': \"Steps.AbalonePreprocess.ProcessingOutputConfig.Outputs['train'].S3Output.S3Uri\"}, 'S3DataDistributionType': 'FullyReplicated'}}, 'ContentType': 'text/csv', 'ChannelName': 'train'}, {'DataSource': {'S3DataSource': {'S3DataType': 'S3Prefix', 'S3Uri': {'Get': \"Steps.AbalonePreprocess.ProcessingOutputConfig.Outputs['validation'].S3Output.S3Uri\"}, 'S3DataDistributionType': 'FullyReplicated'}}, 'ContentType': 'text/csv', 'ChannelName': 'validation'}], 'HyperParameters': {'objective': 'reg:linear', 'num_round': '50', 'max_depth': '5', 'eta': '0.2', 'gamma': '4', 'min_child_weight': '6', 'subsample': '0.7', 'silent': '0'}, 'DebugHookConfig': {'S3OutputPath': 's3://sagemaker-us-east-1-703051050276/AbaloneTrain', 'CollectionConfigurations': []}, 'ProfilerConfig': {'S3OutputPath': 's3://sagemaker-us-east-1-703051050276/AbaloneTrain', 'DisableProfiler': False}}, 'DependsOn': ['AbalonePreprocess']}, {'Name': 'AbaloneEval', 'Type': 'Processing', 'Arguments': {'ProcessingResources': {'ClusterConfig': {'InstanceType': 'ml.m5.xlarge', 'InstanceCount': 1, 'VolumeSizeInGB': 30}}, 'AppSpecification': {'ImageUri': '683313688378.dkr.ecr.us-east-1.amazonaws.com/sagemaker-xgboost:1.0-1-cpu-py3', 'ContainerEntrypoint': ['python3', '/opt/ml/processing/input/code/evaluation.py']}, 'RoleArn': 'arn:aws:iam::703051050276:role/service-role/AmazonSageMaker-ExecutionRole-20231129T151175', 'ProcessingInputs': [{'InputName': 'input-1', 'AppManaged': False, 'S3Input': {'S3Uri': {'Get': 'Steps.AbaloneTrain.ModelArtifacts.S3ModelArtifacts'}, 'LocalPath': '/opt/ml/processing/model', 'S3DataType': 'S3Prefix', 'S3InputMode': 'File', 'S3DataDistributionType': 'FullyReplicated', 'S3CompressionType': 'None'}}, {'InputName': 'input-2', 'AppManaged': False, 'S3Input': {'S3Uri': {'Get': \"Steps.AbalonePreprocess.ProcessingOutputConfig.Outputs['test'].S3Output.S3Uri\"}, 'LocalPath': '/opt/ml/processing/test', 'S3DataType': 'S3Prefix', 'S3InputMode': 'File', 'S3DataDistributionType': 'FullyReplicated', 'S3CompressionType': 'None'}}, {'InputName': 'code', 'AppManaged': False, 'S3Input': {'S3Uri': 's3://sagemaker-us-east-1-703051050276/AbalonePipeline/code/c4b282ad10c354b671209bab8616ad0d/evaluation.py', 'LocalPath': '/opt/ml/processing/input/code', 'S3DataType': 'S3Prefix', 'S3InputMode': 'File', 'S3DataDistributionType': 'FullyReplicated', 'S3CompressionType': 'None'}}], 'ProcessingOutputConfig': {'Outputs': [{'OutputName': 'evaluation', 'AppManaged': False, 'S3Output': {'S3Uri': {'Std:Join': {'On': '/', 'Values': ['s3:/', 'sagemaker-us-east-1-703051050276', 'AbalonePipeline', {'Get': 'Execution.PipelineExecutionId'}, 'AbaloneEval', 'output', 'evaluation']}}, 'LocalPath': '/opt/ml/processing/evaluation', 'S3UploadMode': 'EndOfJob'}}]}}, 'DependsOn': ['AbaloneTrain'], 'PropertyFiles': [{'PropertyFileName': 'EvaluationReport', 'OutputName': 'evaluation', 'FilePath': 'evaluation.json'}]}, {'Name': 'AbaloneRegisterModel-RegisterModel', 'Type': 'RegisterModel', 'Arguments': {'ModelPackageGroupName': 'AbaloneModelPackageGroupName', 'InferenceSpecification': {'Containers': [{'Image': '683313688378.dkr.ecr.us-east-1.amazonaws.com/sagemaker-xgboost:1.0-1-cpu-py3', 'Environment': {}, 'ModelDataUrl': {'Get': 'Steps.AbaloneTrain.ModelArtifacts.S3ModelArtifacts'}}], 'SupportedContentTypes': ['text/csv'], 'SupportedResponseMIMETypes': ['text/csv'], 'SupportedRealtimeInferenceInstanceTypes': ['ml.t2.medium', 'ml.m5.xlarge'], 'SupportedTransformInstanceTypes': ['ml.m5.xlarge']}, 'ModelApprovalStatus': 'PendingManualApproval', 'SkipModelValidation': 'None'}}, {'Name': 'AbaloneCreateModel-CreateModel', 'Type': 'Model', 'Arguments': {'ExecutionRoleArn': 'arn:aws:iam::703051050276:role/service-role/AmazonSageMaker-ExecutionRole-20231129T151175', 'PrimaryContainer': {'Image': '683313688378.dkr.ecr.us-east-1.amazonaws.com/sagemaker-xgboost:1.0-1-cpu-py3', 'Environment': {}, 'ModelDataUrl': {'Get': 'Steps.AbaloneTrain.ModelArtifacts.S3ModelArtifacts'}}}}, {'Name': 'AbaloneTransform', 'Type': 'Transform', 'Arguments': {'ModelName': {'Get': 'Steps.AbaloneCreateModel-CreateModel.ModelName'}, 'TransformInput': {'DataSource': {'S3DataSource': {'S3DataType': 'S3Prefix', 'S3Uri': 's3://sagemaker-us-east-1-703051050276/abalone-batch/abalone-dataset-batch'}}}, 'TransformOutput': {'S3OutputPath': 's3://sagemaker-us-east-1-703051050276/AbaloneTransform'}, 'TransformResources': {'InstanceCount': 1, 'InstanceType': 'ml.m5.xlarge'}}}]}\n"
     ]
    },
    {
     "name": "stderr",
     "output_type": "stream",
     "text": [
      "WARNING:sagemaker.workflow.utilities:Popping out 'ProcessingJobName' from the pipeline definition by default since it will be overridden at pipeline execution time. Please utilize the PipelineDefinitionConfig to persist this field in the pipeline definition if desired.\n",
      "WARNING:sagemaker.workflow.utilities:Popping out 'TrainingJobName' from the pipeline definition by default since it will be overridden at pipeline execution time. Please utilize the PipelineDefinitionConfig to persist this field in the pipeline definition if desired.\n",
      "WARNING:sagemaker.workflow.utilities:Popping out 'ProcessingJobName' from the pipeline definition by default since it will be overridden at pipeline execution time. Please utilize the PipelineDefinitionConfig to persist this field in the pipeline definition if desired.\n",
      "WARNING:sagemaker.workflow.utilities:Popping out 'ModelPackageName' from the pipeline definition by default since it will be overridden at pipeline execution time. Please utilize the PipelineDefinitionConfig to persist this field in the pipeline definition if desired.\n",
      "WARNING:sagemaker.workflow.utilities:Popping out 'ModelName' from the pipeline definition by default since it will be overridden at pipeline execution time. Please utilize the PipelineDefinitionConfig to persist this field in the pipeline definition if desired.\n",
      "WARNING:sagemaker.workflow.utilities:Popping out 'TransformJobName' from the pipeline definition by default since it will be overridden at pipeline execution time. Please utilize the PipelineDefinitionConfig to persist this field in the pipeline definition if desired.\n"
     ]
    },
    {
     "name": "stdout",
     "output_type": "stream",
     "text": [
      "execution completed. steps:\n",
      " [{'StepName': 'AbaloneTransform', 'StartTime': datetime.datetime(2024, 5, 25, 15, 6, 56, 355000, tzinfo=tzlocal()), 'EndTime': datetime.datetime(2024, 5, 25, 15, 12, 8, 844000, tzinfo=tzlocal()), 'StepStatus': 'Succeeded', 'Metadata': {'TransformJob': {'Arn': 'arn:aws:sagemaker:us-east-1:703051050276:transform-job/pipelines-695w0lkcqvr6-AbaloneTransform-x72cCkLTjR'}}, 'AttemptCount': 1}, {'StepName': 'AbaloneEval', 'StartTime': datetime.datetime(2024, 5, 25, 15, 6, 54, 664000, tzinfo=tzlocal()), 'EndTime': datetime.datetime(2024, 5, 25, 15, 11, 38, 474000, tzinfo=tzlocal()), 'StepStatus': 'Succeeded', 'Metadata': {'ProcessingJob': {'Arn': 'arn:aws:sagemaker:us-east-1:703051050276:processing-job/pipelines-695w0lkcqvr6-AbaloneEval-wwITFXvbu4'}}, 'AttemptCount': 1}, {'StepName': 'AbaloneRegisterModel-RegisterModel', 'StartTime': datetime.datetime(2024, 5, 25, 15, 6, 54, 664000, tzinfo=tzlocal()), 'EndTime': datetime.datetime(2024, 5, 25, 15, 6, 55, 650000, tzinfo=tzlocal()), 'StepStatus': 'Succeeded', 'Metadata': {'RegisterModel': {'Arn': 'arn:aws:sagemaker:us-east-1:703051050276:model-package/AbaloneModelPackageGroupName/4'}}, 'AttemptCount': 1}, {'StepName': 'AbaloneCreateModel-CreateModel', 'StartTime': datetime.datetime(2024, 5, 25, 15, 6, 54, 664000, tzinfo=tzlocal()), 'EndTime': datetime.datetime(2024, 5, 25, 15, 6, 55, 864000, tzinfo=tzlocal()), 'StepStatus': 'Succeeded', 'Metadata': {'Model': {'Arn': 'arn:aws:sagemaker:us-east-1:703051050276:model/pipelines-695w0lkcqvr6-AbaloneCreateModel-C-eZJI4nGcTi'}}, 'AttemptCount': 1}, {'StepName': 'AbaloneTrain', 'StartTime': datetime.datetime(2024, 5, 25, 15, 4, 46, 502000, tzinfo=tzlocal()), 'EndTime': datetime.datetime(2024, 5, 25, 15, 6, 54, 296000, tzinfo=tzlocal()), 'StepStatus': 'Succeeded', 'Metadata': {'TrainingJob': {'Arn': 'arn:aws:sagemaker:us-east-1:703051050276:training-job/pipelines-695w0lkcqvr6-AbaloneTrain-r47FZwM7Rz'}}, 'AttemptCount': 1}, {'StepName': 'AbalonePreprocess', 'StartTime': datetime.datetime(2024, 5, 25, 14, 59, 56, 167000, tzinfo=tzlocal()), 'EndTime': datetime.datetime(2024, 5, 25, 15, 4, 45, 715000, tzinfo=tzlocal()), 'StepStatus': 'Succeeded', 'Metadata': {'ProcessingJob': {'Arn': 'arn:aws:sagemaker:us-east-1:703051050276:processing-job/pipelines-695w0lkcqvr6-AbalonePreprocess-v3NgdzgNNs'}}, 'AttemptCount': 1}]\n"
     ]
    }
   ],
   "source": [
    "execute()"
   ]
  },
  {
   "cell_type": "code",
   "execution_count": null,
   "id": "5bf0a608-c8a4-41c1-9714-7e4b498a2986",
   "metadata": {},
   "outputs": [],
   "source": []
  }
 ],
 "metadata": {
  "availableInstances": [
   {
    "_defaultOrder": 0,
    "_isFastLaunch": true,
    "category": "General purpose",
    "gpuNum": 0,
    "hideHardwareSpecs": false,
    "memoryGiB": 4,
    "name": "ml.t3.medium",
    "vcpuNum": 2
   },
   {
    "_defaultOrder": 1,
    "_isFastLaunch": false,
    "category": "General purpose",
    "gpuNum": 0,
    "hideHardwareSpecs": false,
    "memoryGiB": 8,
    "name": "ml.t3.large",
    "vcpuNum": 2
   },
   {
    "_defaultOrder": 2,
    "_isFastLaunch": false,
    "category": "General purpose",
    "gpuNum": 0,
    "hideHardwareSpecs": false,
    "memoryGiB": 16,
    "name": "ml.t3.xlarge",
    "vcpuNum": 4
   },
   {
    "_defaultOrder": 3,
    "_isFastLaunch": false,
    "category": "General purpose",
    "gpuNum": 0,
    "hideHardwareSpecs": false,
    "memoryGiB": 32,
    "name": "ml.t3.2xlarge",
    "vcpuNum": 8
   },
   {
    "_defaultOrder": 4,
    "_isFastLaunch": true,
    "category": "General purpose",
    "gpuNum": 0,
    "hideHardwareSpecs": false,
    "memoryGiB": 8,
    "name": "ml.m5.large",
    "vcpuNum": 2
   },
   {
    "_defaultOrder": 5,
    "_isFastLaunch": false,
    "category": "General purpose",
    "gpuNum": 0,
    "hideHardwareSpecs": false,
    "memoryGiB": 16,
    "name": "ml.m5.xlarge",
    "vcpuNum": 4
   },
   {
    "_defaultOrder": 6,
    "_isFastLaunch": false,
    "category": "General purpose",
    "gpuNum": 0,
    "hideHardwareSpecs": false,
    "memoryGiB": 32,
    "name": "ml.m5.2xlarge",
    "vcpuNum": 8
   },
   {
    "_defaultOrder": 7,
    "_isFastLaunch": false,
    "category": "General purpose",
    "gpuNum": 0,
    "hideHardwareSpecs": false,
    "memoryGiB": 64,
    "name": "ml.m5.4xlarge",
    "vcpuNum": 16
   },
   {
    "_defaultOrder": 8,
    "_isFastLaunch": false,
    "category": "General purpose",
    "gpuNum": 0,
    "hideHardwareSpecs": false,
    "memoryGiB": 128,
    "name": "ml.m5.8xlarge",
    "vcpuNum": 32
   },
   {
    "_defaultOrder": 9,
    "_isFastLaunch": false,
    "category": "General purpose",
    "gpuNum": 0,
    "hideHardwareSpecs": false,
    "memoryGiB": 192,
    "name": "ml.m5.12xlarge",
    "vcpuNum": 48
   },
   {
    "_defaultOrder": 10,
    "_isFastLaunch": false,
    "category": "General purpose",
    "gpuNum": 0,
    "hideHardwareSpecs": false,
    "memoryGiB": 256,
    "name": "ml.m5.16xlarge",
    "vcpuNum": 64
   },
   {
    "_defaultOrder": 11,
    "_isFastLaunch": false,
    "category": "General purpose",
    "gpuNum": 0,
    "hideHardwareSpecs": false,
    "memoryGiB": 384,
    "name": "ml.m5.24xlarge",
    "vcpuNum": 96
   },
   {
    "_defaultOrder": 12,
    "_isFastLaunch": false,
    "category": "General purpose",
    "gpuNum": 0,
    "hideHardwareSpecs": false,
    "memoryGiB": 8,
    "name": "ml.m5d.large",
    "vcpuNum": 2
   },
   {
    "_defaultOrder": 13,
    "_isFastLaunch": false,
    "category": "General purpose",
    "gpuNum": 0,
    "hideHardwareSpecs": false,
    "memoryGiB": 16,
    "name": "ml.m5d.xlarge",
    "vcpuNum": 4
   },
   {
    "_defaultOrder": 14,
    "_isFastLaunch": false,
    "category": "General purpose",
    "gpuNum": 0,
    "hideHardwareSpecs": false,
    "memoryGiB": 32,
    "name": "ml.m5d.2xlarge",
    "vcpuNum": 8
   },
   {
    "_defaultOrder": 15,
    "_isFastLaunch": false,
    "category": "General purpose",
    "gpuNum": 0,
    "hideHardwareSpecs": false,
    "memoryGiB": 64,
    "name": "ml.m5d.4xlarge",
    "vcpuNum": 16
   },
   {
    "_defaultOrder": 16,
    "_isFastLaunch": false,
    "category": "General purpose",
    "gpuNum": 0,
    "hideHardwareSpecs": false,
    "memoryGiB": 128,
    "name": "ml.m5d.8xlarge",
    "vcpuNum": 32
   },
   {
    "_defaultOrder": 17,
    "_isFastLaunch": false,
    "category": "General purpose",
    "gpuNum": 0,
    "hideHardwareSpecs": false,
    "memoryGiB": 192,
    "name": "ml.m5d.12xlarge",
    "vcpuNum": 48
   },
   {
    "_defaultOrder": 18,
    "_isFastLaunch": false,
    "category": "General purpose",
    "gpuNum": 0,
    "hideHardwareSpecs": false,
    "memoryGiB": 256,
    "name": "ml.m5d.16xlarge",
    "vcpuNum": 64
   },
   {
    "_defaultOrder": 19,
    "_isFastLaunch": false,
    "category": "General purpose",
    "gpuNum": 0,
    "hideHardwareSpecs": false,
    "memoryGiB": 384,
    "name": "ml.m5d.24xlarge",
    "vcpuNum": 96
   },
   {
    "_defaultOrder": 20,
    "_isFastLaunch": false,
    "category": "General purpose",
    "gpuNum": 0,
    "hideHardwareSpecs": true,
    "memoryGiB": 0,
    "name": "ml.geospatial.interactive",
    "supportedImageNames": [
     "sagemaker-geospatial-v1-0"
    ],
    "vcpuNum": 0
   },
   {
    "_defaultOrder": 21,
    "_isFastLaunch": true,
    "category": "Compute optimized",
    "gpuNum": 0,
    "hideHardwareSpecs": false,
    "memoryGiB": 4,
    "name": "ml.c5.large",
    "vcpuNum": 2
   },
   {
    "_defaultOrder": 22,
    "_isFastLaunch": false,
    "category": "Compute optimized",
    "gpuNum": 0,
    "hideHardwareSpecs": false,
    "memoryGiB": 8,
    "name": "ml.c5.xlarge",
    "vcpuNum": 4
   },
   {
    "_defaultOrder": 23,
    "_isFastLaunch": false,
    "category": "Compute optimized",
    "gpuNum": 0,
    "hideHardwareSpecs": false,
    "memoryGiB": 16,
    "name": "ml.c5.2xlarge",
    "vcpuNum": 8
   },
   {
    "_defaultOrder": 24,
    "_isFastLaunch": false,
    "category": "Compute optimized",
    "gpuNum": 0,
    "hideHardwareSpecs": false,
    "memoryGiB": 32,
    "name": "ml.c5.4xlarge",
    "vcpuNum": 16
   },
   {
    "_defaultOrder": 25,
    "_isFastLaunch": false,
    "category": "Compute optimized",
    "gpuNum": 0,
    "hideHardwareSpecs": false,
    "memoryGiB": 72,
    "name": "ml.c5.9xlarge",
    "vcpuNum": 36
   },
   {
    "_defaultOrder": 26,
    "_isFastLaunch": false,
    "category": "Compute optimized",
    "gpuNum": 0,
    "hideHardwareSpecs": false,
    "memoryGiB": 96,
    "name": "ml.c5.12xlarge",
    "vcpuNum": 48
   },
   {
    "_defaultOrder": 27,
    "_isFastLaunch": false,
    "category": "Compute optimized",
    "gpuNum": 0,
    "hideHardwareSpecs": false,
    "memoryGiB": 144,
    "name": "ml.c5.18xlarge",
    "vcpuNum": 72
   },
   {
    "_defaultOrder": 28,
    "_isFastLaunch": false,
    "category": "Compute optimized",
    "gpuNum": 0,
    "hideHardwareSpecs": false,
    "memoryGiB": 192,
    "name": "ml.c5.24xlarge",
    "vcpuNum": 96
   },
   {
    "_defaultOrder": 29,
    "_isFastLaunch": true,
    "category": "Accelerated computing",
    "gpuNum": 1,
    "hideHardwareSpecs": false,
    "memoryGiB": 16,
    "name": "ml.g4dn.xlarge",
    "vcpuNum": 4
   },
   {
    "_defaultOrder": 30,
    "_isFastLaunch": false,
    "category": "Accelerated computing",
    "gpuNum": 1,
    "hideHardwareSpecs": false,
    "memoryGiB": 32,
    "name": "ml.g4dn.2xlarge",
    "vcpuNum": 8
   },
   {
    "_defaultOrder": 31,
    "_isFastLaunch": false,
    "category": "Accelerated computing",
    "gpuNum": 1,
    "hideHardwareSpecs": false,
    "memoryGiB": 64,
    "name": "ml.g4dn.4xlarge",
    "vcpuNum": 16
   },
   {
    "_defaultOrder": 32,
    "_isFastLaunch": false,
    "category": "Accelerated computing",
    "gpuNum": 1,
    "hideHardwareSpecs": false,
    "memoryGiB": 128,
    "name": "ml.g4dn.8xlarge",
    "vcpuNum": 32
   },
   {
    "_defaultOrder": 33,
    "_isFastLaunch": false,
    "category": "Accelerated computing",
    "gpuNum": 4,
    "hideHardwareSpecs": false,
    "memoryGiB": 192,
    "name": "ml.g4dn.12xlarge",
    "vcpuNum": 48
   },
   {
    "_defaultOrder": 34,
    "_isFastLaunch": false,
    "category": "Accelerated computing",
    "gpuNum": 1,
    "hideHardwareSpecs": false,
    "memoryGiB": 256,
    "name": "ml.g4dn.16xlarge",
    "vcpuNum": 64
   },
   {
    "_defaultOrder": 35,
    "_isFastLaunch": false,
    "category": "Accelerated computing",
    "gpuNum": 1,
    "hideHardwareSpecs": false,
    "memoryGiB": 61,
    "name": "ml.p3.2xlarge",
    "vcpuNum": 8
   },
   {
    "_defaultOrder": 36,
    "_isFastLaunch": false,
    "category": "Accelerated computing",
    "gpuNum": 4,
    "hideHardwareSpecs": false,
    "memoryGiB": 244,
    "name": "ml.p3.8xlarge",
    "vcpuNum": 32
   },
   {
    "_defaultOrder": 37,
    "_isFastLaunch": false,
    "category": "Accelerated computing",
    "gpuNum": 8,
    "hideHardwareSpecs": false,
    "memoryGiB": 488,
    "name": "ml.p3.16xlarge",
    "vcpuNum": 64
   },
   {
    "_defaultOrder": 38,
    "_isFastLaunch": false,
    "category": "Accelerated computing",
    "gpuNum": 8,
    "hideHardwareSpecs": false,
    "memoryGiB": 768,
    "name": "ml.p3dn.24xlarge",
    "vcpuNum": 96
   },
   {
    "_defaultOrder": 39,
    "_isFastLaunch": false,
    "category": "Memory Optimized",
    "gpuNum": 0,
    "hideHardwareSpecs": false,
    "memoryGiB": 16,
    "name": "ml.r5.large",
    "vcpuNum": 2
   },
   {
    "_defaultOrder": 40,
    "_isFastLaunch": false,
    "category": "Memory Optimized",
    "gpuNum": 0,
    "hideHardwareSpecs": false,
    "memoryGiB": 32,
    "name": "ml.r5.xlarge",
    "vcpuNum": 4
   },
   {
    "_defaultOrder": 41,
    "_isFastLaunch": false,
    "category": "Memory Optimized",
    "gpuNum": 0,
    "hideHardwareSpecs": false,
    "memoryGiB": 64,
    "name": "ml.r5.2xlarge",
    "vcpuNum": 8
   },
   {
    "_defaultOrder": 42,
    "_isFastLaunch": false,
    "category": "Memory Optimized",
    "gpuNum": 0,
    "hideHardwareSpecs": false,
    "memoryGiB": 128,
    "name": "ml.r5.4xlarge",
    "vcpuNum": 16
   },
   {
    "_defaultOrder": 43,
    "_isFastLaunch": false,
    "category": "Memory Optimized",
    "gpuNum": 0,
    "hideHardwareSpecs": false,
    "memoryGiB": 256,
    "name": "ml.r5.8xlarge",
    "vcpuNum": 32
   },
   {
    "_defaultOrder": 44,
    "_isFastLaunch": false,
    "category": "Memory Optimized",
    "gpuNum": 0,
    "hideHardwareSpecs": false,
    "memoryGiB": 384,
    "name": "ml.r5.12xlarge",
    "vcpuNum": 48
   },
   {
    "_defaultOrder": 45,
    "_isFastLaunch": false,
    "category": "Memory Optimized",
    "gpuNum": 0,
    "hideHardwareSpecs": false,
    "memoryGiB": 512,
    "name": "ml.r5.16xlarge",
    "vcpuNum": 64
   },
   {
    "_defaultOrder": 46,
    "_isFastLaunch": false,
    "category": "Memory Optimized",
    "gpuNum": 0,
    "hideHardwareSpecs": false,
    "memoryGiB": 768,
    "name": "ml.r5.24xlarge",
    "vcpuNum": 96
   },
   {
    "_defaultOrder": 47,
    "_isFastLaunch": false,
    "category": "Accelerated computing",
    "gpuNum": 1,
    "hideHardwareSpecs": false,
    "memoryGiB": 16,
    "name": "ml.g5.xlarge",
    "vcpuNum": 4
   },
   {
    "_defaultOrder": 48,
    "_isFastLaunch": false,
    "category": "Accelerated computing",
    "gpuNum": 1,
    "hideHardwareSpecs": false,
    "memoryGiB": 32,
    "name": "ml.g5.2xlarge",
    "vcpuNum": 8
   },
   {
    "_defaultOrder": 49,
    "_isFastLaunch": false,
    "category": "Accelerated computing",
    "gpuNum": 1,
    "hideHardwareSpecs": false,
    "memoryGiB": 64,
    "name": "ml.g5.4xlarge",
    "vcpuNum": 16
   },
   {
    "_defaultOrder": 50,
    "_isFastLaunch": false,
    "category": "Accelerated computing",
    "gpuNum": 1,
    "hideHardwareSpecs": false,
    "memoryGiB": 128,
    "name": "ml.g5.8xlarge",
    "vcpuNum": 32
   },
   {
    "_defaultOrder": 51,
    "_isFastLaunch": false,
    "category": "Accelerated computing",
    "gpuNum": 1,
    "hideHardwareSpecs": false,
    "memoryGiB": 256,
    "name": "ml.g5.16xlarge",
    "vcpuNum": 64
   },
   {
    "_defaultOrder": 52,
    "_isFastLaunch": false,
    "category": "Accelerated computing",
    "gpuNum": 4,
    "hideHardwareSpecs": false,
    "memoryGiB": 192,
    "name": "ml.g5.12xlarge",
    "vcpuNum": 48
   },
   {
    "_defaultOrder": 53,
    "_isFastLaunch": false,
    "category": "Accelerated computing",
    "gpuNum": 4,
    "hideHardwareSpecs": false,
    "memoryGiB": 384,
    "name": "ml.g5.24xlarge",
    "vcpuNum": 96
   },
   {
    "_defaultOrder": 54,
    "_isFastLaunch": false,
    "category": "Accelerated computing",
    "gpuNum": 8,
    "hideHardwareSpecs": false,
    "memoryGiB": 768,
    "name": "ml.g5.48xlarge",
    "vcpuNum": 192
   },
   {
    "_defaultOrder": 55,
    "_isFastLaunch": false,
    "category": "Accelerated computing",
    "gpuNum": 8,
    "hideHardwareSpecs": false,
    "memoryGiB": 1152,
    "name": "ml.p4d.24xlarge",
    "vcpuNum": 96
   },
   {
    "_defaultOrder": 56,
    "_isFastLaunch": false,
    "category": "Accelerated computing",
    "gpuNum": 8,
    "hideHardwareSpecs": false,
    "memoryGiB": 1152,
    "name": "ml.p4de.24xlarge",
    "vcpuNum": 96
   },
   {
    "_defaultOrder": 57,
    "_isFastLaunch": false,
    "category": "Accelerated computing",
    "gpuNum": 0,
    "hideHardwareSpecs": false,
    "memoryGiB": 32,
    "name": "ml.trn1.2xlarge",
    "vcpuNum": 8
   },
   {
    "_defaultOrder": 58,
    "_isFastLaunch": false,
    "category": "Accelerated computing",
    "gpuNum": 0,
    "hideHardwareSpecs": false,
    "memoryGiB": 512,
    "name": "ml.trn1.32xlarge",
    "vcpuNum": 128
   },
   {
    "_defaultOrder": 59,
    "_isFastLaunch": false,
    "category": "Accelerated computing",
    "gpuNum": 0,
    "hideHardwareSpecs": false,
    "memoryGiB": 512,
    "name": "ml.trn1n.32xlarge",
    "vcpuNum": 128
   }
  ],
  "instance_type": "ml.t3.medium",
  "kernelspec": {
   "display_name": "Python 3 (Data Science 3.0)",
   "language": "python",
   "name": "python3__SAGEMAKER_INTERNAL__arn:aws:sagemaker:us-east-1:081325390199:image/sagemaker-data-science-310-v1"
  },
  "language_info": {
   "codemirror_mode": {
    "name": "ipython",
    "version": 3
   },
   "file_extension": ".py",
   "mimetype": "text/x-python",
   "name": "python",
   "nbconvert_exporter": "python",
   "pygments_lexer": "ipython3",
   "version": "3.10.6"
  }
 },
 "nbformat": 4,
 "nbformat_minor": 5
}
